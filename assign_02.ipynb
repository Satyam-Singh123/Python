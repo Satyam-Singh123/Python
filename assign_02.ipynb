{
  "nbformat": 4,
  "nbformat_minor": 0,
  "metadata": {
    "colab": {
      "name": "assign_02.ipynb",
      "provenance": []
    },
    "kernelspec": {
      "name": "python3",
      "display_name": "Python 3"
    }
  },
  "cells": [
    {
      "cell_type": "markdown",
      "metadata": {
        "id": "3hWBWdPP2S8E",
        "colab_type": "text"
      },
      "source": [
        "Task 1:"
      ]
    },
    {
      "cell_type": "markdown",
      "metadata": {
        "id": "thxnGuLg2TqG",
        "colab_type": "text"
      },
      "source": [
        "1.1\n",
        "Write a Python Program to implement your own myreduce() function which works exactly like\n",
        "Python's built-in function reduce()"
      ]
    },
    {
      "cell_type": "code",
      "metadata": {
        "id": "QgM-m4MFqeCy",
        "colab_type": "code",
        "colab": {
          "base_uri": "https://localhost:8080/",
          "height": 35
        },
        "outputId": "a3643110-7815-4b55-9f7e-1c2cdad83d79"
      },
      "source": [
        "################################################################################\n",
        "def myreduce(func, iterator):\n",
        "\n",
        "    if len(iterator)==1:\n",
        "        return iterator[0]\n",
        "\n",
        "    for i in range(1,len(iterator),1):\n",
        "        if i==1:\n",
        "            val = func(iterator[i-1], iterator[i])\n",
        "\n",
        "        else:\n",
        "            val = func(val, iterator[i])\n",
        "\n",
        "    return val\n",
        "\n",
        "################################################################################\n",
        "\n",
        "lis = [ 1,2,3,4,5,6] \n",
        "print(myreduce(lambda a,b : a+b,lis)) "
      ],
      "execution_count": 74,
      "outputs": [
        {
          "output_type": "stream",
          "text": [
            "21\n"
          ],
          "name": "stdout"
        }
      ]
    },
    {
      "cell_type": "code",
      "metadata": {
        "id": "jznNRCFH2V3R",
        "colab_type": "code",
        "colab": {}
      },
      "source": [
        ""
      ],
      "execution_count": 0,
      "outputs": []
    },
    {
      "cell_type": "markdown",
      "metadata": {
        "id": "LK_wDcrt2WDr",
        "colab_type": "text"
      },
      "source": [
        "1.2\n",
        "Write a Python program to implement your own myfilter() function which works exactly like\n",
        "Python's built-in function filter()"
      ]
    },
    {
      "cell_type": "code",
      "metadata": {
        "id": "7-5aG80s__gL",
        "colab_type": "code",
        "colab": {
          "base_uri": "https://localhost:8080/",
          "height": 89
        },
        "outputId": "5f44a2a9-d068-4b26-bfa5-7f47dace862b"
      },
      "source": [
        "def myfilter(func, seq):\n",
        "\n",
        "    ans=[]\n",
        "    for el in seq:\n",
        "        if func(el):\n",
        "            ans.append(el)\n",
        "\n",
        "    return ans\n",
        "\n",
        "# function that filters vowels \n",
        "def fun(variable): \n",
        "    letters = ['a', 'e', 'i', 'o', 'u'] \n",
        "    if (variable in letters): \n",
        "        return True\n",
        "    else: \n",
        "        return False\n",
        " \n",
        "# sequence \n",
        "sequence = ['a', 'b', 'c', 'd', 'i', 'o', 'p', 'r'] \n",
        "  \n",
        "# using mfilter function \n",
        "filtered = myfilter(fun, sequence) \n",
        "  \n",
        "print('The filtered letters are:') \n",
        "for s in filtered: \n",
        "    print(s) "
      ],
      "execution_count": 73,
      "outputs": [
        {
          "output_type": "stream",
          "text": [
            "The filtered letters are:\n",
            "a\n",
            "i\n",
            "o\n"
          ],
          "name": "stdout"
        }
      ]
    },
    {
      "cell_type": "markdown",
      "metadata": {
        "id": "qvcRujUz__tD",
        "colab_type": "text"
      },
      "source": [
        "2.\n",
        "Implement List comprehensions to produce the following lists.\n",
        "Write List comprehensions to produce the following Lists\n",
        "\n",
        "['A', 'C', 'A', 'D', 'G', 'I', ’L’, ‘ D’]\n",
        "\n",
        "['x', 'xx', 'xxx', 'xxxx', 'y', 'yy', 'yyy', 'yyyy', 'z', 'zz', 'zzz', 'zzzz']\n",
        "\n",
        "['x', 'y', 'z', 'xx', 'yy', 'zz', 'xx', 'yy', 'zz', 'xxxx', 'yyyy', \n",
        "'zzzz']\n",
        "\n",
        "[[2], [3], [4], [3], [4], [5], [4], [5], [6]]\n",
        "\n",
        "[[2, 3, 4, 5], [3, 4, 5, 6], [4, 5, 6, 7], [5, 6, 7, 8]]\n",
        "\n",
        "[(1, 1), (2, 1), (3, 1), (1, 2), (2, 2), (3, 2), (1, 3), (2, 3), (3, 3)"
      ]
    },
    {
      "cell_type": "code",
      "metadata": {
        "id": "PnCmx4dHAFQN",
        "colab_type": "code",
        "colab": {
          "base_uri": "https://localhost:8080/",
          "height": 125
        },
        "outputId": "f327e6e5-7054-4222-e928-bbb45dab1190"
      },
      "source": [
        "text='ACADGILD'\n",
        "ans_1=[i for i in text]\n",
        "print(ans_1)\n",
        "\n",
        "ans_2=[]\n",
        "list([ans_2.append(el) for el in [i*j for j in range(1,5)]] for i in ['x','y','z'])\n",
        "print(ans_2)\n",
        "\n",
        "ans_3=[]\n",
        "list([ans_3.append(el) for el in [i*j for j in ['x', 'y', 'z']]] for i in range(1,5))\n",
        "print(ans_3)\n",
        "\n",
        "ans_4=[]\n",
        "list([ans_4.append([j]) for j in range(i, i+3)] for i in range(2,5))\n",
        "print(ans_4)\n",
        "\n",
        "ans_5=[]\n",
        "list(ans_5.append([j for j in range(i, i+4)]) for i in range(2,6))\n",
        "print(ans_5)\n",
        "\n",
        "ans_6 = []\n",
        "list([ans_6.append([j,i]) for j in range(1,4)] for i in range(1,4))\n",
        "print(ans_6)"
      ],
      "execution_count": 136,
      "outputs": [
        {
          "output_type": "stream",
          "text": [
            "['A', 'C', 'A', 'D', 'G', 'I', 'L', 'D']\n",
            "['x', 'xx', 'xxx', 'xxxx', 'y', 'yy', 'yyy', 'yyyy', 'z', 'zz', 'zzz', 'zzzz']\n",
            "['x', 'y', 'z', 'xx', 'yy', 'zz', 'xxx', 'yyy', 'zzz', 'xxxx', 'yyyy', 'zzzz']\n",
            "[[2], [3], [4], [3], [4], [5], [4], [5], [6]]\n",
            "[[2, 3, 4, 5], [3, 4, 5, 6], [4, 5, 6, 7], [5, 6, 7, 8]]\n",
            "[[1, 1], [2, 1], [3, 1], [1, 2], [2, 2], [3, 2], [1, 3], [2, 3], [3, 3]]\n"
          ],
          "name": "stdout"
        }
      ]
    },
    {
      "cell_type": "markdown",
      "metadata": {
        "id": "5vdpJkGCBDxO",
        "colab_type": "text"
      },
      "source": [
        "3.\n",
        "Implement a function longestWord() that takes a list of words and returns the longest one.\n"
      ]
    },
    {
      "cell_type": "code",
      "metadata": {
        "id": "CyBeZ_0ip9Qq",
        "colab_type": "code",
        "colab": {
          "base_uri": "https://localhost:8080/",
          "height": 35
        },
        "outputId": "7661e6f8-0980-4179-9e4a-bbf9fe211745"
      },
      "source": [
        "def longestWord(seq):\n",
        "    lw=0\n",
        "    longest=0\n",
        "    for word in seq:\n",
        "        if len(word)>longest:\n",
        "            longest=len(word)\n",
        "            lw=word\n",
        "    return lw\n",
        "\n",
        "s = ['a', 'aaa', 'fantastic']\n",
        "print(longestWord(s))"
      ],
      "execution_count": 139,
      "outputs": [
        {
          "output_type": "stream",
          "text": [
            "fantastic\n"
          ],
          "name": "stdout"
        }
      ]
    },
    {
      "cell_type": "code",
      "metadata": {
        "id": "YBpu1DIre1YF",
        "colab_type": "code",
        "colab": {}
      },
      "source": [
        ""
      ],
      "execution_count": 0,
      "outputs": []
    },
    {
      "cell_type": "markdown",
      "metadata": {
        "id": "GY2MMmDke1qF",
        "colab_type": "text"
      },
      "source": [
        "Write a Python Program(with class concepts) to find the area of the triangle using the below\n",
        "formula.\n",
        "\n",
        "area = (s*(s-a)*(s-b)*(s-c)) ** 0.5\n",
        "\n",
        "Function to take the length of the sides of triangle from user should be defined in the parent class and function to calculate the area should be defined in subclass"
      ]
    },
    {
      "cell_type": "code",
      "metadata": {
        "id": "KlZtTc_ne2Fl",
        "colab_type": "code",
        "colab": {
          "base_uri": "https://localhost:8080/",
          "height": 35
        },
        "outputId": "3185657f-62c3-4c2f-dc90-c00fb461036c"
      },
      "source": [
        "class parent():\n",
        "\n",
        "    def __init__(self, a,b,c):\n",
        "        self.a=a\n",
        "        self.b=b\n",
        "        self.c=c\n",
        "\n",
        "class subclass(parent):\n",
        "\n",
        "    def __init(self, a,b,c):\n",
        "        super().__init__(a,b,c)\n",
        "    def area(self):\n",
        "        s = (self.a + self.b + self.c)/2.0\n",
        "        area = (s*(s-self.a)*(s-self.b)*(s-self.c))**0.5 \n",
        "        print('Area of the traingle is: ', area)    \n",
        "\n",
        "traingle = subclass(24, 30, 18)\n",
        "traingle.area() "
      ],
      "execution_count": 148,
      "outputs": [
        {
          "output_type": "stream",
          "text": [
            "Area of the traingle is:  216.0\n"
          ],
          "name": "stdout"
        }
      ]
    },
    {
      "cell_type": "markdown",
      "metadata": {
        "id": "GOdRy50AhLyJ",
        "colab_type": "text"
      },
      "source": [
        "Write a function filter_long_words() that takes a list of words and an integer n and returns the list\n",
        "of words that are longer than n."
      ]
    },
    {
      "cell_type": "code",
      "metadata": {
        "id": "nV3aAlEDhMSl",
        "colab_type": "code",
        "colab": {
          "base_uri": "https://localhost:8080/",
          "height": 35
        },
        "outputId": "af7be161-fd20-4079-962f-9ab8812ae79f"
      },
      "source": [
        "def filter_long_words(n, seq):\n",
        "\n",
        "    return [word for word in seq if len(word)>n]\n",
        "\n",
        "l = ['a','aa', 'b', 'bb', 'c', 'cc']\n",
        "n=1\n",
        "filter_long_words(n, l)"
      ],
      "execution_count": 153,
      "outputs": [
        {
          "output_type": "execute_result",
          "data": {
            "text/plain": [
              "['aa', 'bb', 'cc']"
            ]
          },
          "metadata": {
            "tags": []
          },
          "execution_count": 153
        }
      ]
    },
    {
      "cell_type": "markdown",
      "metadata": {
        "id": "H7UhukPxdZBO",
        "colab_type": "text"
      },
      "source": [
        "2.1\n",
        "Write a Python program using function concept that maps list of words into a list of integers\n",
        "representing the lengths of the corresponding words.\n",
        "\n",
        "Hint: If a list [ ab,cde,erty] is passed on to the python function output should come as [2,3,4]\n"
      ]
    },
    {
      "cell_type": "code",
      "metadata": {
        "id": "-O8p6WJcdTvm",
        "colab_type": "code",
        "colab": {
          "base_uri": "https://localhost:8080/",
          "height": 35
        },
        "outputId": "17b2ef2e-ab6a-42d8-cd82-d159632bdedf"
      },
      "source": [
        "seq=[ 'ab','cde','erty'] \n",
        "[len(el) for el in seq]"
      ],
      "execution_count": 140,
      "outputs": [
        {
          "output_type": "execute_result",
          "data": {
            "text/plain": [
              "[2, 3, 4]"
            ]
          },
          "metadata": {
            "tags": []
          },
          "execution_count": 140
        }
      ]
    },
    {
      "cell_type": "markdown",
      "metadata": {
        "id": "Xo1vKpPXdwwp",
        "colab_type": "text"
      },
      "source": [
        "2.2\n",
        "Write a Python function which takes a character (i.e. a string of length 1) and returns True if it is\n",
        "a vowel, False otherwise."
      ]
    },
    {
      "cell_type": "code",
      "metadata": {
        "id": "6PFOemcRq3YI",
        "colab_type": "code",
        "colab": {
          "base_uri": "https://localhost:8080/",
          "height": 35
        },
        "outputId": "67db27d0-2988-43b7-bd6f-0c357ed67281"
      },
      "source": [
        "def isVowel(word):\n",
        "    vowels = ['a', 'e', 'i', 'o', 'u']\n",
        "    if word.lower() in vowels:\n",
        "        return True\n",
        "    else:\n",
        "        return False\n",
        "\n",
        "isVowel('A')"
      ],
      "execution_count": 144,
      "outputs": [
        {
          "output_type": "execute_result",
          "data": {
            "text/plain": [
              "True"
            ]
          },
          "metadata": {
            "tags": []
          },
          "execution_count": 144
        }
      ]
    },
    {
      "cell_type": "code",
      "metadata": {
        "id": "ULjeJvBK3N_v",
        "colab_type": "code",
        "colab": {
          "base_uri": "https://localhost:8080/",
          "height": 35
        },
        "outputId": "1a53440e-dbcc-425c-d343-6b8429bd8d62"
      },
      "source": [
        "print('N/A')"
      ],
      "execution_count": 146,
      "outputs": [
        {
          "output_type": "stream",
          "text": [
            "N/A\n"
          ],
          "name": "stdout"
        }
      ]
    }
  ]
}