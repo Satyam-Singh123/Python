{
  "nbformat": 4,
  "nbformat_minor": 0,
  "metadata": {
    "colab": {
      "name": "assign_01.ipynb",
      "provenance": []
    },
    "kernelspec": {
      "name": "python3",
      "display_name": "Python 3"
    }
  },
  "cells": [
    {
      "cell_type": "markdown",
      "metadata": {
        "id": "z8tBG1TxsuzU",
        "colab_type": "text"
      },
      "source": [
        "1.Install Jupyter notebook and run the first program and share the screenshot of the output"
      ]
    },
    {
      "cell_type": "markdown",
      "metadata": {
        "id": "59RLhDiapOoK",
        "colab_type": "text"
      },
      "source": [
        "![alt text](https://drive.google.com/open?id=1gHqfyVA43g_X7byIbp9D45NoUy8gEBRk)"
      ]
    },
    {
      "cell_type": "markdown",
      "metadata": {
        "id": "z8ZeMLkw6kZ7",
        "colab_type": "text"
      },
      "source": [
        "2.Write a program which will find all such numbers which are divisible by 7 but are not a multiple of 5, between 2000 and 3200 (both included). The numbers obtained should be printed in a comma-separated sequence on a single line."
      ]
    },
    {
      "cell_type": "code",
      "metadata": {
        "id": "noiAzOvW5PdB",
        "colab_type": "code",
        "outputId": "94b2625e-6119-42f6-d548-1f945faccb9d",
        "colab": {
          "base_uri": "https://localhost:8080/",
          "height": 55
        }
      },
      "source": [
        "for num in range(2000, 3201):\n",
        "    if ((num%5!=0) & (num%7==0)):\n",
        "        print(num, end=',') "
      ],
      "execution_count": 0,
      "outputs": [
        {
          "output_type": "stream",
          "text": [
            "2002,2009,2016,2023,2037,2044,2051,2058,2072,2079,2086,2093,2107,2114,2121,2128,2142,2149,2156,2163,2177,2184,2191,2198,2212,2219,2226,2233,2247,2254,2261,2268,2282,2289,2296,2303,2317,2324,2331,2338,2352,2359,2366,2373,2387,2394,2401,2408,2422,2429,2436,2443,2457,2464,2471,2478,2492,2499,2506,2513,2527,2534,2541,2548,2562,2569,2576,2583,2597,2604,2611,2618,2632,2639,2646,2653,2667,2674,2681,2688,2702,2709,2716,2723,2737,2744,2751,2758,2772,2779,2786,2793,2807,2814,2821,2828,2842,2849,2856,2863,2877,2884,2891,2898,2912,2919,2926,2933,2947,2954,2961,2968,2982,2989,2996,3003,3017,3024,3031,3038,3052,3059,3066,3073,3087,3094,3101,3108,3122,3129,3136,3143,3157,3164,3171,3178,3192,3199,"
          ],
          "name": "stdout"
        }
      ]
    },
    {
      "cell_type": "markdown",
      "metadata": {
        "id": "0PIPFCLC6rCk",
        "colab_type": "text"
      },
      "source": [
        "3. Write a Python program to accept the user's first and last name and then getting them printed in the the reverse order with a space between first name and last name."
      ]
    },
    {
      "cell_type": "code",
      "metadata": {
        "id": "7xtNYmvR6rNY",
        "colab_type": "code",
        "outputId": "cc6931be-c3b2-40c5-81f1-38b6662ba1fa",
        "colab": {
          "base_uri": "https://localhost:8080/",
          "height": 71
        }
      },
      "source": [
        "print('Hey Geek, Enter your First Name: ', end='')\n",
        "f_name =input()\n",
        "\n",
        "print('Enter your Last Name: ', end='')\n",
        "l_name =input()\n",
        "\n",
        "print('Here is Reverse of your Name:', f_name[::-1], l_name[::-1])"
      ],
      "execution_count": 0,
      "outputs": [
        {
          "output_type": "stream",
          "text": [
            "Hey Geek, Enter your First Name: Satyam\n",
            "Enter your Last Name: Singh\n",
            "Here is Reverse of your Name: maytaS hgniS\n"
          ],
          "name": "stdout"
        }
      ]
    },
    {
      "cell_type": "markdown",
      "metadata": {
        "id": "4jcfcYl37bbu",
        "colab_type": "text"
      },
      "source": [
        "4. Write a Python program to find the volume of a sphere with diameter 12 cm. Formula: V=4/3 * π * r^3"
      ]
    },
    {
      "cell_type": "code",
      "metadata": {
        "id": "oYpEp5Qp7b9O",
        "colab_type": "code",
        "outputId": "deef2e97-5e1f-4990-e011-e924a1dc1473",
        "colab": {
          "base_uri": "https://localhost:8080/",
          "height": 53
        }
      },
      "source": [
        "import math\n",
        "\n",
        "print('Enter Diameter of Sphere in cm : ', end='')\n",
        "d =int(input())\n",
        "r = d/2\n",
        "\n",
        "vol=(4/3)*math.pi*(math.pow(r,3))\n",
        "print(f'Volume of the Sphere is: {round(vol,3)} cubic cm ')\n"
      ],
      "execution_count": 0,
      "outputs": [
        {
          "output_type": "stream",
          "text": [
            "Enter Diameter of Sphere in cm : 12\n",
            "Volume of the Sphere is: 904.779 cubic cm \n"
          ],
          "name": "stdout"
        }
      ]
    },
    {
      "cell_type": "code",
      "metadata": {
        "id": "4HUd6Cxb9Z-_",
        "colab_type": "code",
        "outputId": "bb2f6194-7674-4324-e605-8e566813aa2a",
        "colab": {
          "base_uri": "https://localhost:8080/",
          "height": 53
        }
      },
      "source": [
        "inp = input()\n",
        "inp_list= inp.split(',')\n",
        "inp_list"
      ],
      "execution_count": 0,
      "outputs": [
        {
          "output_type": "stream",
          "text": [
            "5,6,7,8,9,7,9,5,5\n"
          ],
          "name": "stdout"
        },
        {
          "output_type": "execute_result",
          "data": {
            "text/plain": [
              "['5', '6', '7', '8', '9', '7', '9', '5', '5']"
            ]
          },
          "metadata": {
            "tags": []
          },
          "execution_count": 9
        }
      ]
    },
    {
      "cell_type": "markdown",
      "metadata": {
        "id": "YxX6yke992CY",
        "colab_type": "text"
      },
      "source": [
        "Create the below pattern using nested for loop in Python.\n",
        "\n",
        "    *\n",
        "\n",
        "    * *\n",
        "\n",
        "    * * *\n",
        "\n",
        "    * * * *\n",
        "\n",
        "    * * * * *\n",
        "\n",
        "    * * * *\n",
        "\n",
        "    * * *\n",
        "\n",
        "    * *\n",
        "\n",
        "    *\n"
      ]
    },
    {
      "cell_type": "code",
      "metadata": {
        "id": "tt09GxlH-I_Z",
        "colab_type": "code",
        "outputId": "b76a9d33-94d8-4879-a76f-b07362d0ac37",
        "colab": {
          "base_uri": "https://localhost:8080/",
          "height": 340
        }
      },
      "source": [
        "i=1\n",
        "j=1\n",
        "while i!=0: \n",
        "\n",
        "    for k in range(i):\n",
        "        print('*', end=' ')  \n",
        "\n",
        "    print('\\n')\n",
        "    if j<5:\n",
        "        i+=1\n",
        "    else:\n",
        "        i-=1\n",
        "\n",
        "    j+=1     "
      ],
      "execution_count": 0,
      "outputs": [
        {
          "output_type": "stream",
          "text": [
            "* \n",
            "\n",
            "* * \n",
            "\n",
            "* * * \n",
            "\n",
            "* * * * \n",
            "\n",
            "* * * * * \n",
            "\n",
            "* * * * \n",
            "\n",
            "* * * \n",
            "\n",
            "* * \n",
            "\n",
            "* \n",
            "\n"
          ],
          "name": "stdout"
        }
      ]
    },
    {
      "cell_type": "markdown",
      "metadata": {
        "id": "tkgA_gTZ_bZo",
        "colab_type": "text"
      },
      "source": [
        "3. Write a Python program to reverse a word after accepting the input from the user.\n",
        "\n",
        "Sample Output:\n",
        "\n",
        "Input word: AcadGild\n",
        "Output: dilGdacA"
      ]
    },
    {
      "cell_type": "code",
      "metadata": {
        "id": "v42Buygw_WQL",
        "colab_type": "code",
        "outputId": "16736ed6-d423-4906-c5e0-52c9750a598c",
        "colab": {
          "base_uri": "https://localhost:8080/",
          "height": 53
        }
      },
      "source": [
        "inp = input()\n",
        "inp[::-1]"
      ],
      "execution_count": 0,
      "outputs": [
        {
          "output_type": "stream",
          "text": [
            "AcadGild\n"
          ],
          "name": "stdout"
        },
        {
          "output_type": "execute_result",
          "data": {
            "text/plain": [
              "'dliGdacA'"
            ]
          },
          "metadata": {
            "tags": []
          },
          "execution_count": 15
        }
      ]
    },
    {
      "cell_type": "markdown",
      "metadata": {
        "id": "ZNdULkbTs5x9",
        "colab_type": "text"
      },
      "source": [
        "4.\n",
        "Write a Python Program to print the given string in the format specified in the sample output.\n"
      ]
    },
    {
      "cell_type": "code",
      "metadata": {
        "id": "paFVRL5btX0t",
        "colab_type": "code",
        "colab": {
          "base_uri": "https://localhost:8080/",
          "height": 89
        },
        "outputId": "cc6fd596-efce-4c2b-bd46-cd0eaa753d0e"
      },
      "source": [
        "print(\"WE, THE PEOPLE OF INDIA,\\n\\thaving solemnly resolved to constitute India into a SOVEREIGN, !\\n\\t\\tSOCIALIST, SECULAR, DEMOCRATIC REPUBLIC\\n\\t\\t and to secure to all its citizens\")"
      ],
      "execution_count": 3,
      "outputs": [
        {
          "output_type": "stream",
          "text": [
            "WE, THE PEOPLE OF INDIA,\n",
            "\thaving solemnly resolved to constitute India into a SOVEREIGN, !\n",
            "\t\tSOCIALIST, SECULAR, DEMOCRATIC REPUBLIC\n",
            "\t\t and to secure to all its citizens\n"
          ],
          "name": "stdout"
        }
      ]
    }
  ]
}